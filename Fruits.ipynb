{
  "cells": [
    {
      "cell_type": "code",
      "execution_count": 1,
      "metadata": {
        "id": "great-words"
      },
      "outputs": [],
      "source": [
        "import os\n",
        "import tensorflow as tf\n",
        "from tensorflow import keras\n",
        "import numpy as np\n",
        "import seaborn as sns\n",
        "import cv2\n",
        "import matplotlib.pyplot as plt\n",
        "from keras.utils import to_categorical\n",
        "from sklearn.metrics import confusion_matrix\n",
        "from sklearn.model_selection import train_test_split"
      ],
      "id": "great-words"
    },
    {
      "cell_type": "code",
      "execution_count": 2,
      "metadata": {
        "colab": {
          "base_uri": "https://localhost:8080/"
        },
        "id": "TYo_mgj7uRUs",
        "outputId": "b101a67e-20e0-41b5-838a-496ba63cbe30"
      },
      "outputs": [
        {
          "output_type": "stream",
          "name": "stdout",
          "text": [
            "Drive already mounted at /content/drive; to attempt to forcibly remount, call drive.mount(\"/content/drive\", force_remount=True).\n"
          ]
        }
      ],
      "source": [
        "from google.colab import drive\n",
        "drive.mount('/content/drive')"
      ],
      "id": "TYo_mgj7uRUs"
    },
    {
      "cell_type": "code",
      "execution_count": 3,
      "metadata": {
        "id": "prerequisite-party"
      },
      "outputs": [],
      "source": [
        "directory = \"/content/drive/MyDrive/fruits-360/Training\"\n",
        "classes = [\"Apple Golden 1\", \"Avocado\", \"Cactus fruit\", \"Carambula\", \"Cherry 1\", \"Corn Husk\", \"Eggplant\", \"Fig\", \n",
        "          \"Chestnut\", \"Guava\", \"Limes\", \"Corn\", \"Kaki\", \"Kiwi\", \"Lychee\", \"Dates\", \"Huckleberry\", \"Cocos\", \"Mandarine\",\n",
        "          \"Maracuja\", \"Nectarine Flat\", \"Nut Pecan\", \"Pear\", \"Tomato 1\", \"Quince\", \"Pepino\", \"Redcurrant\", \"Salak\", \n",
        "          \"Strawberry Wedge\", \"Raspberry\"]\n",
        "\n",
        "arrays = []\n",
        "\n",
        "img_size = 100\n",
        "for i in classes:\n",
        "    path = os.path.join(directory,i)\n",
        "    class_num = classes.index(i)\n",
        "    for img in os.listdir(path):\n",
        "      img_array = cv2.imread(os.path.join(path, img))\n",
        "      try:\n",
        "        img_array = cv2.cvtColor(img_array, cv2.COLOR_BGR2RGB)\n",
        "        arrays.append([img_array, class_num])\n",
        "      except Exception as e:\n",
        "        continue\n",
        "\n"
      ],
      "id": "prerequisite-party"
    },
    {
      "cell_type": "code",
      "execution_count": 4,
      "metadata": {
        "id": "inner-picking"
      },
      "outputs": [],
      "source": [
        "directory2 = \"/content/drive/MyDrive/fruits-360/Test\"\n",
        "classes2 = [\"Apple Golden 1\", \"Avocado\", \"Cactus fruit\", \"Carambula\", \"Cherry 1\", \"Corn Husk\", \"Eggplant\", \"Fig\", \n",
        "          \"Chestnut\", \"Guava\", \"Limes\", \"Corn\", \"Kaki\", \"Kiwi\", \"Lychee\", \"Dates\", \"Huckleberry\", \"Cocos\", \"Mandarine\",\n",
        "          \"Maracuja\", \"Nectarine Flat\", \"Nut Pecan\", \"Pear\", \"Tomato 1\", \"Quince\", \"Pepino\", \"Redcurrant\", \"Salak\", \n",
        "          \"Strawberry Wedge\", \"Raspberry\"]\n",
        "\n",
        "arrays2 = []\n",
        "img_size = 100\n",
        "for i in classes2:\n",
        "    path = os.path.join(directory2,i)\n",
        "    class_num2 = classes2.index(i)\n",
        "    for img in os.listdir(path):\n",
        "        img_array2 = cv2.imread(os.path.join(path, img))\n",
        "        try:\n",
        "          img_array = cv2.cvtColor(img_array, cv2.COLOR_BGR2RGB)\n",
        "          arrays2.append([img_array, class_num])\n",
        "        except Exception as e:\n",
        "          continue\n"
      ],
      "id": "inner-picking"
    },
    {
      "cell_type": "code",
      "execution_count": 5,
      "metadata": {
        "id": "touched-mixture"
      },
      "outputs": [],
      "source": [
        "import random\n",
        "random.shuffle(arrays)\n",
        "random.shuffle(arrays2)\n",
        "\n",
        "X_train = []\n",
        "Y_train = []\n",
        "for features, label in arrays:\n",
        "    X_train.append(features)\n",
        "    Y_train.append(label)\n",
        "X_train = np.array(X_train)\n",
        "\n",
        "X_test = []\n",
        "Y_test = []\n",
        "for features, label in arrays2:\n",
        "    X_test.append(features)\n",
        "    Y_test.append(label)\n",
        "X_test = np.array(X_test)"
      ],
      "id": "touched-mixture"
    },
    {
      "cell_type": "code",
      "source": [
        "del arrays[:]\n",
        "del arrays2[:]\n",
        "del classes[:]\n",
        "del classes2[:]\n"
      ],
      "metadata": {
        "id": "2cnl_cgjQvY6"
      },
      "id": "2cnl_cgjQvY6",
      "execution_count": 6,
      "outputs": []
    },
    {
      "cell_type": "code",
      "execution_count": 7,
      "metadata": {
        "colab": {
          "base_uri": "https://localhost:8080/"
        },
        "id": "pursuant-kitchen",
        "outputId": "8301d5df-5a7d-4cc1-bc5d-9ba55ad69bb0"
      },
      "outputs": [
        {
          "output_type": "stream",
          "name": "stdout",
          "text": [
            "(15222, 100, 100, 3)\n",
            "(5114, 100, 100, 3)\n"
          ]
        }
      ],
      "source": [
        "X_train = X_train.reshape(-1, img_size, img_size, 3)\n",
        "X_train = X_train / 255\n",
        "\n",
        "X_test = X_test.reshape(-1, img_size, img_size, 3)\n",
        "X_test = X_test / 255\n",
        "print(X_train.shape)\n",
        "print(X_test.shape)"
      ],
      "id": "pursuant-kitchen"
    },
    {
      "cell_type": "code",
      "execution_count": 8,
      "metadata": {
        "id": "engaged-sucking"
      },
      "outputs": [],
      "source": [
        "Y_train = to_categorical(Y_train, 30)\n",
        "Y_test = to_categorical(Y_test, 30)"
      ],
      "id": "engaged-sucking"
    },
    {
      "cell_type": "code",
      "execution_count": 9,
      "metadata": {
        "id": "occasional-invalid"
      },
      "outputs": [],
      "source": [
        "model = tf.keras.Sequential([\n",
        "    tf.keras.layers.Conv2D(8, (5, 5), padding = \"same\", activation = \"relu\", input_shape = (100, 100, 3)), \n",
        "    tf.keras.layers.MaxPool2D((2, 2)),\n",
        "    tf.keras.layers.Conv2D(16, (5, 5), padding = \"same\", activation = \"relu\"),\n",
        "    tf.keras.layers.MaxPool2D((2, 2)),\n",
        "    \n",
        "    tf.keras.layers.Flatten(),\n",
        "    tf.keras.layers.Dense(10, activation = \"relu\"),\n",
        "    tf.keras.layers.Dense(30, activation = \"softmax\")\n",
        "])\n",
        "\n",
        "optimizer = tf.keras.optimizers.Adam(learning_rate = 0.001)\n",
        "model.compile(optimizer = optimizer,\n",
        "             loss = \"categorical_crossentropy\",\n",
        "             metrics = [\"accuracy\"])"
      ],
      "id": "occasional-invalid"
    },
    {
      "cell_type": "code",
      "execution_count": 10,
      "metadata": {
        "id": "constant-plasma",
        "colab": {
          "base_uri": "https://localhost:8080/"
        },
        "outputId": "4e6513e1-752d-48a1-fa7e-51b4b8a89df1"
      },
      "outputs": [
        {
          "output_type": "stream",
          "name": "stdout",
          "text": [
            "Epoch 1/11\n",
            "77/77 [==============================] - 123s 2s/step - loss: 2.7992 - accuracy: 0.1525\n",
            "Epoch 2/11\n",
            "77/77 [==============================] - 114s 1s/step - loss: 1.5529 - accuracy: 0.5197\n",
            "Epoch 3/11\n",
            "77/77 [==============================] - 114s 1s/step - loss: 0.7227 - accuracy: 0.8061\n",
            "Epoch 4/11\n",
            "77/77 [==============================] - 116s 2s/step - loss: 0.4053 - accuracy: 0.8823\n",
            "Epoch 5/11\n",
            "77/77 [==============================] - 114s 1s/step - loss: 0.2349 - accuracy: 0.9187\n",
            "Epoch 6/11\n",
            "77/77 [==============================] - 115s 1s/step - loss: 0.1128 - accuracy: 0.9738\n",
            "Epoch 7/11\n",
            "77/77 [==============================] - 115s 1s/step - loss: 0.0599 - accuracy: 0.9904\n",
            "Epoch 8/11\n",
            "77/77 [==============================] - 114s 1s/step - loss: 0.0400 - accuracy: 0.9940\n",
            "Epoch 9/11\n",
            "77/77 [==============================] - 114s 1s/step - loss: 0.0266 - accuracy: 0.9961\n",
            "Epoch 10/11\n",
            "77/77 [==============================] - 115s 2s/step - loss: 0.0136 - accuracy: 0.9989\n",
            "Epoch 11/11\n",
            "77/77 [==============================] - 115s 1s/step - loss: 0.0104 - accuracy: 0.9995\n"
          ]
        },
        {
          "output_type": "execute_result",
          "data": {
            "text/plain": [
              "<keras.callbacks.History at 0x7fd302205b20>"
            ]
          },
          "metadata": {},
          "execution_count": 10
        }
      ],
      "source": [
        "model.fit(X_train, Y_train, batch_size = 200, epochs = 11) "
      ],
      "id": "constant-plasma"
    },
    {
      "cell_type": "code",
      "execution_count": 11,
      "metadata": {
        "colab": {
          "base_uri": "https://localhost:8080/"
        },
        "id": "hundred-finland",
        "outputId": "9386b555-7893-4ab5-b3b9-2a23bd0e1dcf"
      },
      "outputs": [
        {
          "output_type": "stream",
          "name": "stdout",
          "text": [
            "160/160 [==============================] - 13s 81ms/step - loss: 0.2969 - accuracy: 1.0000\n"
          ]
        },
        {
          "output_type": "execute_result",
          "data": {
            "text/plain": [
              "[0.29687947034835815, 1.0]"
            ]
          },
          "metadata": {},
          "execution_count": 11
        }
      ],
      "source": [
        "model.evaluate(X_test, Y_test)"
      ],
      "id": "hundred-finland"
    },
    {
      "cell_type": "code",
      "execution_count": null,
      "metadata": {
        "id": "modified-burst"
      },
      "outputs": [],
      "source": [
        "# Вывести не получается, так как просто напросто не хватает оперативки...)\n",
        "fruit_names = [\"Apple Golden 1\", \"Avocado\", \"Cactus fruit\", \"Carambula\", \"Cherry 1\", \"Corn Husk\", \"Eggplant\", \"Fig\", \n",
        "          \"Chestnut\", \"Guava\", \"Limes\", \"Corn\", \"Kaki\", \"Kiwi\", \"Lychee\", \"Dates\", \"Huckleberry\", \"Cocos\", \"Mandarine\",\n",
        "          \"Maracuja\", \"Nectarine Flat\", \"Nut Pecan\", \"Pear\", \"Tomato 1\", \"Quince\", \"Pepino\", \"Redcurrant\", \"Salak\", \n",
        "          \"Strawberry Wedge\", \"Raspberry\"]\n",
        "\n",
        "pred1 = model.predict(X_train)\n",
        "pred_classes1 = np.argmax(pred1, axis = 1)\n",
        "true1 = np.argmax(Y_train, axis = 1)\n",
        "conf_matr1 = confusion_matrix(true1, pred_classes1)\n",
        "f, ax = plt.subplots(figsize = (31, 30))\n",
        "sns.heatmap(conf_matr1, annot = True, fmt = \".0f\")\n",
        "ax.set_xticklabels(fruit_names)\n",
        "ax.set_yticklabels(fruit_names)\n",
        "plt.show()"
      ],
      "id": "modified-burst"
    },
    {
      "cell_type": "code",
      "source": [
        "model.summary()"
      ],
      "metadata": {
        "colab": {
          "base_uri": "https://localhost:8080/"
        },
        "id": "xfoHbiOheMrI",
        "outputId": "d57ee60e-a6ee-43d8-c137-5ae14313b6c6"
      },
      "id": "xfoHbiOheMrI",
      "execution_count": 12,
      "outputs": [
        {
          "output_type": "stream",
          "name": "stdout",
          "text": [
            "Model: \"sequential\"\n",
            "_________________________________________________________________\n",
            " Layer (type)                Output Shape              Param #   \n",
            "=================================================================\n",
            " conv2d (Conv2D)             (None, 100, 100, 8)       608       \n",
            "                                                                 \n",
            " max_pooling2d (MaxPooling2D  (None, 50, 50, 8)        0         \n",
            " )                                                               \n",
            "                                                                 \n",
            " conv2d_1 (Conv2D)           (None, 50, 50, 16)        3216      \n",
            "                                                                 \n",
            " max_pooling2d_1 (MaxPooling  (None, 25, 25, 16)       0         \n",
            " 2D)                                                             \n",
            "                                                                 \n",
            " flatten (Flatten)           (None, 10000)             0         \n",
            "                                                                 \n",
            " dense (Dense)               (None, 10)                100010    \n",
            "                                                                 \n",
            " dense_1 (Dense)             (None, 30)                330       \n",
            "                                                                 \n",
            "=================================================================\n",
            "Total params: 104,164\n",
            "Trainable params: 104,164\n",
            "Non-trainable params: 0\n",
            "_________________________________________________________________\n"
          ]
        }
      ]
    },
    {
      "cell_type": "code",
      "source": [
        "f.clear()\n",
        "ax.clear()\n",
        "plt.close(f)"
      ],
      "metadata": {
        "id": "kaCC5ljxdb3_"
      },
      "id": "kaCC5ljxdb3_",
      "execution_count": null,
      "outputs": []
    },
    {
      "cell_type": "code",
      "execution_count": null,
      "metadata": {
        "colab": {
          "base_uri": "https://localhost:8080/",
          "height": 1000
        },
        "id": "allied-bookmark",
        "outputId": "04dcc054-0836-4f75-ca75-f859cb23df01"
      },
      "outputs": [
        {
          "output_type": "stream",
          "name": "stdout",
          "text": [
            "160/160 [==============================] - 46s 289ms/step\n"
          ]
        },
        {
          "output_type": "error",
          "ename": "ValueError",
          "evalue": "ignored",
          "traceback": [
            "\u001b[0;31m---------------------------------------------------------------------------\u001b[0m",
            "\u001b[0;31mValueError\u001b[0m                                Traceback (most recent call last)",
            "\u001b[0;32m<ipython-input-17-218d4ef49bda>\u001b[0m in \u001b[0;36m<cell line: 13>\u001b[0;34m()\u001b[0m\n\u001b[1;32m     11\u001b[0m \u001b[0mf\u001b[0m\u001b[0;34m,\u001b[0m \u001b[0max\u001b[0m \u001b[0;34m=\u001b[0m \u001b[0mplt\u001b[0m\u001b[0;34m.\u001b[0m\u001b[0msubplots\u001b[0m\u001b[0;34m(\u001b[0m\u001b[0mfigsize\u001b[0m \u001b[0;34m=\u001b[0m \u001b[0;34m(\u001b[0m\u001b[0;36m31\u001b[0m\u001b[0;34m,\u001b[0m \u001b[0;36m30\u001b[0m\u001b[0;34m)\u001b[0m\u001b[0;34m)\u001b[0m\u001b[0;34m\u001b[0m\u001b[0;34m\u001b[0m\u001b[0m\n\u001b[1;32m     12\u001b[0m \u001b[0msns\u001b[0m\u001b[0;34m.\u001b[0m\u001b[0mheatmap\u001b[0m\u001b[0;34m(\u001b[0m\u001b[0mconf_matr_test\u001b[0m\u001b[0;34m,\u001b[0m \u001b[0mannot\u001b[0m \u001b[0;34m=\u001b[0m \u001b[0;32mTrue\u001b[0m\u001b[0;34m,\u001b[0m \u001b[0mfmt\u001b[0m \u001b[0;34m=\u001b[0m \u001b[0;34m\".0f\"\u001b[0m\u001b[0;34m)\u001b[0m\u001b[0;34m\u001b[0m\u001b[0;34m\u001b[0m\u001b[0m\n\u001b[0;32m---> 13\u001b[0;31m \u001b[0max\u001b[0m\u001b[0;34m.\u001b[0m\u001b[0mset_xticklabels\u001b[0m\u001b[0;34m(\u001b[0m\u001b[0mfruit_names1\u001b[0m\u001b[0;34m)\u001b[0m\u001b[0;34m\u001b[0m\u001b[0;34m\u001b[0m\u001b[0m\n\u001b[0m\u001b[1;32m     14\u001b[0m \u001b[0max\u001b[0m\u001b[0;34m.\u001b[0m\u001b[0mset_yticklabels\u001b[0m\u001b[0;34m(\u001b[0m\u001b[0mfruit_names1\u001b[0m\u001b[0;34m)\u001b[0m\u001b[0;34m\u001b[0m\u001b[0;34m\u001b[0m\u001b[0m\n\u001b[1;32m     15\u001b[0m \u001b[0mplt\u001b[0m\u001b[0;34m.\u001b[0m\u001b[0mshow\u001b[0m\u001b[0;34m(\u001b[0m\u001b[0;34m)\u001b[0m\u001b[0;34m\u001b[0m\u001b[0;34m\u001b[0m\u001b[0m\n",
            "\u001b[0;32m/usr/local/lib/python3.9/dist-packages/matplotlib/axes/_base.py\u001b[0m in \u001b[0;36mwrapper\u001b[0;34m(self, *args, **kwargs)\u001b[0m\n\u001b[1;32m     72\u001b[0m                 \u001b[0;31m# user definitely doesn't want tri_down marker\u001b[0m\u001b[0;34m\u001b[0m\u001b[0;34m\u001b[0m\u001b[0m\n\u001b[1;32m     73\u001b[0m                 \u001b[0;32mreturn\u001b[0m \u001b[0mlinestyle\u001b[0m\u001b[0;34m,\u001b[0m \u001b[0mmarker\u001b[0m\u001b[0;34m,\u001b[0m \u001b[0mcolor\u001b[0m  \u001b[0;31m# Yes\u001b[0m\u001b[0;34m\u001b[0m\u001b[0;34m\u001b[0m\u001b[0m\n\u001b[0;32m---> 74\u001b[0;31m             \u001b[0;32melse\u001b[0m\u001b[0;34m:\u001b[0m\u001b[0;34m\u001b[0m\u001b[0;34m\u001b[0m\u001b[0m\n\u001b[0m\u001b[1;32m     75\u001b[0m                 \u001b[0;31m# ignore converted color\u001b[0m\u001b[0;34m\u001b[0m\u001b[0;34m\u001b[0m\u001b[0m\n\u001b[1;32m     76\u001b[0m                 \u001b[0mcolor\u001b[0m \u001b[0;34m=\u001b[0m \u001b[0;32mNone\u001b[0m\u001b[0;34m\u001b[0m\u001b[0;34m\u001b[0m\u001b[0m\n",
            "\u001b[0;32m/usr/local/lib/python3.9/dist-packages/matplotlib/_api/deprecation.py\u001b[0m in \u001b[0;36mwrapper\u001b[0;34m(*args, **kwargs)\u001b[0m\n",
            "\u001b[0;32m/usr/local/lib/python3.9/dist-packages/matplotlib/axis.py\u001b[0m in \u001b[0;36mset_ticklabels\u001b[0;34m(self, labels, minor, fontdict, **kwargs)\u001b[0m\n\u001b[1;32m   1967\u001b[0m     \u001b[0;32mdef\u001b[0m \u001b[0m_update_offset_text_position\u001b[0m\u001b[0;34m(\u001b[0m\u001b[0mself\u001b[0m\u001b[0;34m,\u001b[0m \u001b[0mbboxes\u001b[0m\u001b[0;34m,\u001b[0m \u001b[0mbboxes2\u001b[0m\u001b[0;34m)\u001b[0m\u001b[0;34m:\u001b[0m\u001b[0;34m\u001b[0m\u001b[0;34m\u001b[0m\u001b[0m\n\u001b[1;32m   1968\u001b[0m         \"\"\"\n\u001b[0;32m-> 1969\u001b[0;31m         \u001b[0mUpdate\u001b[0m \u001b[0mthe\u001b[0m \u001b[0moffset_text\u001b[0m \u001b[0mposition\u001b[0m \u001b[0mbased\u001b[0m \u001b[0mon\u001b[0m \u001b[0mthe\u001b[0m \u001b[0msequence\u001b[0m \u001b[0mof\u001b[0m \u001b[0mbounding\u001b[0m\u001b[0;34m\u001b[0m\u001b[0;34m\u001b[0m\u001b[0m\n\u001b[0m\u001b[1;32m   1970\u001b[0m         \u001b[0mboxes\u001b[0m \u001b[0mof\u001b[0m \u001b[0mall\u001b[0m \u001b[0mthe\u001b[0m \u001b[0mticklabels\u001b[0m\u001b[0;34m\u001b[0m\u001b[0;34m\u001b[0m\u001b[0m\n\u001b[1;32m   1971\u001b[0m         \"\"\"\n",
            "\u001b[0;31mValueError\u001b[0m: The number of FixedLocator locations (1), usually from a call to set_ticks, does not match the number of labels (30)."
          ]
        },
        {
          "output_type": "display_data",
          "data": {
            "text/plain": [
              "<Figure size 3100x3000 with 2 Axes>"
            ],
            "image/png": "[encoded data removed]"
          },
          "metadata": {}
        }
      ],
      "source": [
        "fruit_names1 = [\"Apple Golden 1\", \"Avocado\", \"Cactus fruit\", \"Carambula\", \"Cherry 1\", \"Corn Husk\", \"Eggplant\", \"Fig\", \n",
        "          \"Chestnut\", \"Guava\", \"Limes\", \"Corn\", \"Kaki\", \"Kiwi\", \"Lychee\", \"Dates\", \"Huckleberry\", \"Cocos\", \"Mandarine\",\n",
        "          \"Maracuja\", \"Nectarine Flat\", \"Nut Pecan\", \"Pear\", \"Tomato 1\", \"Quince\", \"Pepino\", \"Redcurrant\", \"Salak\", \n",
        "          \"Strawberry Wedge\", \"Raspberry\"]\n",
        "\n",
        "pred_test = model.predict(X_test)\n",
        "pred_classes_test = np.argmax(pred_test, axis = 1)\n",
        "true_test = np.argmax(Y_test, axis = 1)\n",
        "conf_matr_test = confusion_matrix(true_test, pred_classes_test)\n",
        "f, ax = plt.subplots(figsize = (31, 30))\n",
        "sns.heatmap(conf_matr_test, annot = True, fmt = \".0f\")\n",
        "ax.set_xticklabels(fruit_names1)\n",
        "ax.set_yticklabels(fruit_names1)\n",
        "plt.show()"
      ],
      "id": "allied-bookmark"
    },
    {
      "cell_type": "code",
      "execution_count": null,
      "metadata": {
        "id": "s3JGcNGGUrRI"
      },
      "outputs": [],
      "source": [],
      "id": "s3JGcNGGUrRI"
    },
    {
      "cell_type": "code",
      "source": [],
      "metadata": {
        "id": "CRM-HTNOcPPM"
      },
      "id": "CRM-HTNOcPPM",
      "execution_count": null,
      "outputs": []
    }
  ],
  "metadata": {
    "colab": {
      "provenance": [],
      "gpuType": "T4"
    },
    "kernelspec": {
      "display_name": "Python 3",
      "language": "python",
      "name": "python3"
    },
    "language_info": {
      "codemirror_mode": {
        "name": "ipython",
        "version": 3
      },
      "file_extension": ".py",
      "mimetype": "text/x-python",
      "name": "python",
      "nbconvert_exporter": "python",
      "pygments_lexer": "ipython3",
      "version": "3.8.10"
    },
    "gpuClass": "standard"
  },
  "nbformat": 4,
  "nbformat_minor": 5
}