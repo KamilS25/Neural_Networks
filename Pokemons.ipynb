{
 "cells": [
  {
   "cell_type": "code",
   "execution_count": 1,
   "id": "4a8f710c",
   "metadata": {},
   "outputs": [],
   "source": [
    "import tensorflow as tf\n",
    "from tensorflow import keras\n",
    "import numpy as np\n",
    "import pandas as pd\n",
    "from sklearn import preprocessing, model_selection\n",
    "from sklearn.preprocessing import LabelEncoder\n"
   ]
  },
  {
   "cell_type": "code",
   "execution_count": 2,
   "id": "93f1a4be",
   "metadata": {},
   "outputs": [
    {
     "data": {
      "text/html": [
       "<div>\n",
       "<style scoped>\n",
       "    .dataframe tbody tr th:only-of-type {\n",
       "        vertical-align: middle;\n",
       "    }\n",
       "\n",
       "    .dataframe tbody tr th {\n",
       "        vertical-align: top;\n",
       "    }\n",
       "\n",
       "    .dataframe thead th {\n",
       "        text-align: right;\n",
       "    }\n",
       "</style>\n",
       "<table border=\"1\" class=\"dataframe\">\n",
       "  <thead>\n",
       "    <tr style=\"text-align: right;\">\n",
       "      <th></th>\n",
       "      <th>#</th>\n",
       "      <th>Name</th>\n",
       "      <th>Type 1</th>\n",
       "      <th>Type 2</th>\n",
       "      <th>Total</th>\n",
       "      <th>HP</th>\n",
       "      <th>Attack</th>\n",
       "      <th>Defense</th>\n",
       "      <th>Sp. Atk</th>\n",
       "      <th>Sp. Def</th>\n",
       "      <th>Speed</th>\n",
       "      <th>Generation</th>\n",
       "      <th>Legendary</th>\n",
       "    </tr>\n",
       "  </thead>\n",
       "  <tbody>\n",
       "    <tr>\n",
       "      <th>0</th>\n",
       "      <td>1</td>\n",
       "      <td>Bulbasaur</td>\n",
       "      <td>Grass</td>\n",
       "      <td>Poison</td>\n",
       "      <td>318</td>\n",
       "      <td>45</td>\n",
       "      <td>49</td>\n",
       "      <td>49</td>\n",
       "      <td>65</td>\n",
       "      <td>65</td>\n",
       "      <td>45</td>\n",
       "      <td>1</td>\n",
       "      <td>False</td>\n",
       "    </tr>\n",
       "    <tr>\n",
       "      <th>1</th>\n",
       "      <td>2</td>\n",
       "      <td>Ivysaur</td>\n",
       "      <td>Grass</td>\n",
       "      <td>Poison</td>\n",
       "      <td>405</td>\n",
       "      <td>60</td>\n",
       "      <td>62</td>\n",
       "      <td>63</td>\n",
       "      <td>80</td>\n",
       "      <td>80</td>\n",
       "      <td>60</td>\n",
       "      <td>1</td>\n",
       "      <td>False</td>\n",
       "    </tr>\n",
       "    <tr>\n",
       "      <th>2</th>\n",
       "      <td>3</td>\n",
       "      <td>Venusaur</td>\n",
       "      <td>Grass</td>\n",
       "      <td>Poison</td>\n",
       "      <td>525</td>\n",
       "      <td>80</td>\n",
       "      <td>82</td>\n",
       "      <td>83</td>\n",
       "      <td>100</td>\n",
       "      <td>100</td>\n",
       "      <td>80</td>\n",
       "      <td>1</td>\n",
       "      <td>False</td>\n",
       "    </tr>\n",
       "    <tr>\n",
       "      <th>3</th>\n",
       "      <td>3</td>\n",
       "      <td>VenusaurMega Venusaur</td>\n",
       "      <td>Grass</td>\n",
       "      <td>Poison</td>\n",
       "      <td>625</td>\n",
       "      <td>80</td>\n",
       "      <td>100</td>\n",
       "      <td>123</td>\n",
       "      <td>122</td>\n",
       "      <td>120</td>\n",
       "      <td>80</td>\n",
       "      <td>1</td>\n",
       "      <td>False</td>\n",
       "    </tr>\n",
       "    <tr>\n",
       "      <th>4</th>\n",
       "      <td>4</td>\n",
       "      <td>Charmander</td>\n",
       "      <td>Fire</td>\n",
       "      <td>NaN</td>\n",
       "      <td>309</td>\n",
       "      <td>39</td>\n",
       "      <td>52</td>\n",
       "      <td>43</td>\n",
       "      <td>60</td>\n",
       "      <td>50</td>\n",
       "      <td>65</td>\n",
       "      <td>1</td>\n",
       "      <td>False</td>\n",
       "    </tr>\n",
       "    <tr>\n",
       "      <th>...</th>\n",
       "      <td>...</td>\n",
       "      <td>...</td>\n",
       "      <td>...</td>\n",
       "      <td>...</td>\n",
       "      <td>...</td>\n",
       "      <td>...</td>\n",
       "      <td>...</td>\n",
       "      <td>...</td>\n",
       "      <td>...</td>\n",
       "      <td>...</td>\n",
       "      <td>...</td>\n",
       "      <td>...</td>\n",
       "      <td>...</td>\n",
       "    </tr>\n",
       "    <tr>\n",
       "      <th>795</th>\n",
       "      <td>719</td>\n",
       "      <td>Diancie</td>\n",
       "      <td>Rock</td>\n",
       "      <td>Fairy</td>\n",
       "      <td>600</td>\n",
       "      <td>50</td>\n",
       "      <td>100</td>\n",
       "      <td>150</td>\n",
       "      <td>100</td>\n",
       "      <td>150</td>\n",
       "      <td>50</td>\n",
       "      <td>6</td>\n",
       "      <td>True</td>\n",
       "    </tr>\n",
       "    <tr>\n",
       "      <th>796</th>\n",
       "      <td>719</td>\n",
       "      <td>DiancieMega Diancie</td>\n",
       "      <td>Rock</td>\n",
       "      <td>Fairy</td>\n",
       "      <td>700</td>\n",
       "      <td>50</td>\n",
       "      <td>160</td>\n",
       "      <td>110</td>\n",
       "      <td>160</td>\n",
       "      <td>110</td>\n",
       "      <td>110</td>\n",
       "      <td>6</td>\n",
       "      <td>True</td>\n",
       "    </tr>\n",
       "    <tr>\n",
       "      <th>797</th>\n",
       "      <td>720</td>\n",
       "      <td>HoopaHoopa Confined</td>\n",
       "      <td>Psychic</td>\n",
       "      <td>Ghost</td>\n",
       "      <td>600</td>\n",
       "      <td>80</td>\n",
       "      <td>110</td>\n",
       "      <td>60</td>\n",
       "      <td>150</td>\n",
       "      <td>130</td>\n",
       "      <td>70</td>\n",
       "      <td>6</td>\n",
       "      <td>True</td>\n",
       "    </tr>\n",
       "    <tr>\n",
       "      <th>798</th>\n",
       "      <td>720</td>\n",
       "      <td>HoopaHoopa Unbound</td>\n",
       "      <td>Psychic</td>\n",
       "      <td>Dark</td>\n",
       "      <td>680</td>\n",
       "      <td>80</td>\n",
       "      <td>160</td>\n",
       "      <td>60</td>\n",
       "      <td>170</td>\n",
       "      <td>130</td>\n",
       "      <td>80</td>\n",
       "      <td>6</td>\n",
       "      <td>True</td>\n",
       "    </tr>\n",
       "    <tr>\n",
       "      <th>799</th>\n",
       "      <td>721</td>\n",
       "      <td>Volcanion</td>\n",
       "      <td>Fire</td>\n",
       "      <td>Water</td>\n",
       "      <td>600</td>\n",
       "      <td>80</td>\n",
       "      <td>110</td>\n",
       "      <td>120</td>\n",
       "      <td>130</td>\n",
       "      <td>90</td>\n",
       "      <td>70</td>\n",
       "      <td>6</td>\n",
       "      <td>True</td>\n",
       "    </tr>\n",
       "  </tbody>\n",
       "</table>\n",
       "<p>800 rows × 13 columns</p>\n",
       "</div>"
      ],
      "text/plain": [
       "       #                   Name   Type 1  Type 2  Total  HP  Attack  Defense  \\\n",
       "0      1              Bulbasaur    Grass  Poison    318  45      49       49   \n",
       "1      2                Ivysaur    Grass  Poison    405  60      62       63   \n",
       "2      3               Venusaur    Grass  Poison    525  80      82       83   \n",
       "3      3  VenusaurMega Venusaur    Grass  Poison    625  80     100      123   \n",
       "4      4             Charmander     Fire     NaN    309  39      52       43   \n",
       "..   ...                    ...      ...     ...    ...  ..     ...      ...   \n",
       "795  719                Diancie     Rock   Fairy    600  50     100      150   \n",
       "796  719    DiancieMega Diancie     Rock   Fairy    700  50     160      110   \n",
       "797  720    HoopaHoopa Confined  Psychic   Ghost    600  80     110       60   \n",
       "798  720     HoopaHoopa Unbound  Psychic    Dark    680  80     160       60   \n",
       "799  721              Volcanion     Fire   Water    600  80     110      120   \n",
       "\n",
       "     Sp. Atk  Sp. Def  Speed  Generation  Legendary  \n",
       "0         65       65     45           1      False  \n",
       "1         80       80     60           1      False  \n",
       "2        100      100     80           1      False  \n",
       "3        122      120     80           1      False  \n",
       "4         60       50     65           1      False  \n",
       "..       ...      ...    ...         ...        ...  \n",
       "795      100      150     50           6       True  \n",
       "796      160      110    110           6       True  \n",
       "797      150      130     70           6       True  \n",
       "798      170      130     80           6       True  \n",
       "799      130       90     70           6       True  \n",
       "\n",
       "[800 rows x 13 columns]"
      ]
     },
     "execution_count": 2,
     "metadata": {},
     "output_type": "execute_result"
    }
   ],
   "source": [
    "df = pd.read_csv('pok.csv')\n",
    "df"
   ]
  },
  {
   "cell_type": "code",
   "execution_count": 3,
   "id": "d7688827",
   "metadata": {},
   "outputs": [
    {
     "data": {
      "text/plain": [
       "Water       112\n",
       "Normal       98\n",
       "Grass        70\n",
       "Bug          69\n",
       "Psychic      57\n",
       "Fire         52\n",
       "Electric     44\n",
       "Rock         44\n",
       "Dragon       32\n",
       "Ground       32\n",
       "Ghost        32\n",
       "Dark         31\n",
       "Poison       28\n",
       "Steel        27\n",
       "Fighting     27\n",
       "Ice          24\n",
       "Fairy        17\n",
       "Flying        4\n",
       "Name: Type 1, dtype: int64"
      ]
     },
     "execution_count": 3,
     "metadata": {},
     "output_type": "execute_result"
    }
   ],
   "source": [
    "# Просмотр типов покемонов\n",
    "df['Type 1'].value_counts()"
   ]
  },
  {
   "cell_type": "code",
   "execution_count": 4,
   "id": "cb56cb2c",
   "metadata": {},
   "outputs": [
    {
     "data": {
      "text/plain": [
       "Flying      97\n",
       "Ground      35\n",
       "Poison      34\n",
       "Psychic     33\n",
       "Fighting    26\n",
       "Grass       25\n",
       "Fairy       23\n",
       "Steel       22\n",
       "Dark        20\n",
       "Dragon      18\n",
       "Water       14\n",
       "Ghost       14\n",
       "Ice         14\n",
       "Rock        14\n",
       "Fire        12\n",
       "Electric     6\n",
       "Normal       4\n",
       "Bug          3\n",
       "Name: Type 2, dtype: int64"
      ]
     },
     "execution_count": 4,
     "metadata": {},
     "output_type": "execute_result"
    }
   ],
   "source": [
    "df['Type 2'].value_counts()"
   ]
  },
  {
   "cell_type": "code",
   "execution_count": 5,
   "id": "a8e9f7aa",
   "metadata": {},
   "outputs": [],
   "source": [
    "# Составление двух массивов из типов покемонов и их харктеристик\n",
    "x = np.array(df.drop(['Type 1', 'Type 2', 'Name', 'Legendary', '#', 'Generation'], axis = 1))\n",
    "Y = np.array(df[['Type 1', 'Type 2']])"
   ]
  },
  {
   "cell_type": "code",
   "execution_count": 6,
   "id": "60ff61ab",
   "metadata": {},
   "outputs": [
    {
     "data": {
      "text/plain": [
       "array([['Grass', 'Poison'],\n",
       "       ['Grass', 'Poison'],\n",
       "       ['Grass', 'Poison'],\n",
       "       ['Grass', 'Poison'],\n",
       "       ['Fire', nan],\n",
       "       ['Fire', nan],\n",
       "       ['Fire', 'Flying'],\n",
       "       ['Fire', 'Dragon'],\n",
       "       ['Fire', 'Flying'],\n",
       "       ['Water', nan]], dtype=object)"
      ]
     },
     "execution_count": 6,
     "metadata": {},
     "output_type": "execute_result"
    }
   ],
   "source": [
    "# Получившийся масив с типами покемонов\n",
    "Y[:10, :]"
   ]
  },
  {
   "cell_type": "code",
   "execution_count": 7,
   "id": "fe4e28bf",
   "metadata": {},
   "outputs": [
    {
     "name": "stdout",
     "output_type": "stream",
     "text": [
      "[[ 9 13]\n",
      " [ 9 13]\n",
      " [ 9 13]\n",
      " [ 9 13]\n",
      " [ 6 18]\n",
      " [ 6 18]\n",
      " [ 6  7]\n",
      " [ 6  2]\n",
      " [ 6  7]\n",
      " [17 18]]\n",
      "18\n",
      "19\n"
     ]
    }
   ],
   "source": [
    "# Перевод категориальных признаков в численные\n",
    "labelencoder = LabelEncoder()\n",
    "y1 = labelencoder.fit_transform(Y[:, 0])\n",
    "y2 = labelencoder.fit_transform(Y[:, 1])\n",
    "\n",
    "# Совмещение двух массивов и просмотр уникальных значений\n",
    "y = np.column_stack((y1, y2))\n",
    "print(y[:10, :])\n",
    "print(len(set(y[:, 0])))\n",
    "print(len(set(y[:, 1])))\n"
   ]
  },
  {
   "cell_type": "code",
   "execution_count": 8,
   "id": "da2c5171",
   "metadata": {},
   "outputs": [
    {
     "name": "stdout",
     "output_type": "stream",
     "text": [
      "[318  45  49  49  65  65  45]  =>  [ 9 13]\n",
      "[405  60  62  63  80  80  60]  =>  [ 9 13]\n",
      "[525  80  82  83 100 100  80]  =>  [ 9 13]\n",
      "[625  80 100 123 122 120  80]  =>  [ 9 13]\n",
      "[309  39  52  43  60  50  65]  =>  [ 6 18]\n",
      "[405  58  64  58  80  65  80]  =>  [ 6 18]\n",
      "[534  78  84  78 109  85 100]  =>  [6 7]\n",
      "[634  78 130 111 130  85 100]  =>  [6 2]\n",
      "[634  78 104  78 159 115 100]  =>  [6 7]\n",
      "[314  44  48  65  50  64  43]  =>  [17 18]\n"
     ]
    }
   ],
   "source": [
    "for i in range (10):\n",
    "    print(x[i],\" => \", y[i])\n"
   ]
  },
  {
   "cell_type": "code",
   "execution_count": 9,
   "id": "875b956f",
   "metadata": {},
   "outputs": [],
   "source": [
    "x_train, x_test, y_train, y_test = model_selection.train_test_split(x, y, train_size = 0.6)"
   ]
  },
  {
   "cell_type": "code",
   "execution_count": 10,
   "id": "d873b368",
   "metadata": {},
   "outputs": [
    {
     "name": "stdout",
     "output_type": "stream",
     "text": [
      "[[ 2 10]\n",
      " [ 9 18]\n",
      " [ 1  5]\n",
      " [11 17]\n",
      " [13 18]\n",
      " [17 18]\n",
      " [ 0  9]\n",
      " [ 6 18]\n",
      " [ 9 13]\n",
      " [14 18]]\n"
     ]
    }
   ],
   "source": [
    "# Нормализация\n",
    "x_f_train = preprocessing.scale(x_train)\n",
    "x_f_test = preprocessing.scale(x_test)\n",
    "\n",
    "print(y_train[:10, :])\n"
   ]
  },
  {
   "cell_type": "code",
   "execution_count": 11,
   "id": "459ff773",
   "metadata": {},
   "outputs": [
    {
     "name": "stdout",
     "output_type": "stream",
     "text": [
      "[[0 0 1 0 0 0 0 0 0 0 1 0 0 0 0 0 0 0 0]\n",
      " [0 0 0 0 0 0 0 0 0 1 0 0 0 0 0 0 0 0 1]\n",
      " [0 1 0 0 0 1 0 0 0 0 0 0 0 0 0 0 0 0 0]\n",
      " [0 0 0 0 0 0 0 0 0 0 0 1 0 0 0 0 0 1 0]\n",
      " [0 0 0 0 0 0 0 0 0 0 0 0 0 1 0 0 0 0 1]\n",
      " [0 0 0 0 0 0 0 0 0 0 0 0 0 0 0 0 0 1 1]\n",
      " [1 0 0 0 0 0 0 0 0 1 0 0 0 0 0 0 0 0 0]\n",
      " [0 0 0 0 0 0 1 0 0 0 0 0 0 0 0 0 0 0 1]\n",
      " [0 0 0 0 0 0 0 0 0 1 0 0 0 1 0 0 0 0 0]\n",
      " [0 0 0 0 0 0 0 0 0 0 0 0 0 0 1 0 0 0 1]]\n",
      "----------------------------------------\n",
      "[[0 0 0 0 0 0 0 0 0 1 0 0 0 0 1 0 0 0 0]\n",
      " [0 0 0 0 0 0 0 0 0 0 0 0 0 0 1 0 0 0 1]\n",
      " [0 0 0 0 0 0 0 0 0 0 0 1 0 0 1 0 0 0 0]\n",
      " [0 0 0 0 0 1 0 0 0 0 0 0 0 0 1 0 0 0 0]\n",
      " [0 0 0 1 0 0 0 0 0 0 0 0 0 0 0 0 0 0 1]\n",
      " [0 0 0 0 0 0 0 0 0 0 0 0 0 1 0 0 0 0 1]\n",
      " [0 0 0 1 0 0 0 0 0 0 0 0 0 0 0 0 0 1 0]\n",
      " [0 0 1 0 0 0 0 0 0 0 0 0 0 0 0 0 0 0 1]\n",
      " [0 0 0 0 0 0 0 0 0 0 0 0 1 0 0 0 0 0 1]\n",
      " [0 0 0 0 0 0 0 0 0 0 0 0 1 0 0 0 0 0 1]]\n"
     ]
    }
   ],
   "source": [
    "# Преобразование массива с типами покемонов в подходящий вид, где единица - это возможный тип покемона.\n",
    "\n",
    "y_train_f = np.array([[0]*19]*len(y_train))\n",
    "y_test_f = np.array([[0]*19]*len(y_test))\n",
    "\n",
    "for i in range(len(y_test)):\n",
    "    for j in range(2):\n",
    "        y_test_f[i][y_test[i][j]] = 1\n",
    "\n",
    "for i in range(len(y_train)):\n",
    "    for j in range(2):\n",
    "        y_train_f[i][y_train[i][j]] = 1\n",
    "        \n",
    "print(y_train_f[:10, :])\n",
    "print('----------------------------------------')\n",
    "print(y_test_f[:10, :])"
   ]
  },
  {
   "cell_type": "code",
   "execution_count": 12,
   "id": "67e5392e",
   "metadata": {},
   "outputs": [],
   "source": [
    "# Построение нейронной сети с 7-ью входами и 19 выходами\n",
    "\n",
    "inputs = tf.keras.Input(x_f_train[1].shape,)\n",
    "x = tf.keras.layers.Dense(256, activation = tf.nn.relu)(inputs)\n",
    "outputs = tf.keras.layers.Dense(19, activation = tf.nn.softmax)(x)\n",
    "model = tf.keras.Model(inputs = inputs, outputs = outputs)\n",
    "\n",
    "model.compile(optimizer='adam', loss='categorical_crossentropy', metrics=['accuracy'])"
   ]
  },
  {
   "cell_type": "code",
   "execution_count": 35,
   "id": "59b19918",
   "metadata": {},
   "outputs": [
    {
     "name": "stdout",
     "output_type": "stream",
     "text": [
      "Epoch 1/10\n",
      "15/15 [==============================] - 0s 2ms/step - loss: 8.0252 - accuracy: 0.0625\n",
      "Epoch 2/10\n",
      "15/15 [==============================] - 0s 2ms/step - loss: 8.5492 - accuracy: 0.0688\n",
      "Epoch 3/10\n",
      "15/15 [==============================] - 0s 2ms/step - loss: 8.1837 - accuracy: 0.0646\n",
      "Epoch 4/10\n",
      "15/15 [==============================] - 0s 2ms/step - loss: 8.1096 - accuracy: 0.0833\n",
      "Epoch 5/10\n",
      "15/15 [==============================] - 0s 2ms/step - loss: 8.0095 - accuracy: 0.0396\n",
      "Epoch 6/10\n",
      "15/15 [==============================] - 0s 2ms/step - loss: 8.1172 - accuracy: 0.0708\n",
      "Epoch 7/10\n",
      "15/15 [==============================] - 0s 2ms/step - loss: 8.0743 - accuracy: 0.0562\n",
      "Epoch 8/10\n",
      "15/15 [==============================] - 0s 1ms/step - loss: 8.3154 - accuracy: 0.0750\n",
      "Epoch 9/10\n",
      "15/15 [==============================] - 0s 2ms/step - loss: 8.6750 - accuracy: 0.0542\n",
      "Epoch 10/10\n",
      "15/15 [==============================] - 0s 1ms/step - loss: 8.7060 - accuracy: 0.0750\n"
     ]
    },
    {
     "data": {
      "text/plain": [
       "<keras.callbacks.History at 0x20aa77f0>"
      ]
     },
     "execution_count": 35,
     "metadata": {},
     "output_type": "execute_result"
    }
   ],
   "source": [
    "model.fit(x_f_train, y_train_f, epochs=10)\n"
   ]
  },
  {
   "cell_type": "code",
   "execution_count": 36,
   "id": "dc82b417",
   "metadata": {},
   "outputs": [
    {
     "name": "stdout",
     "output_type": "stream",
     "text": [
      "10/10 [==============================] - 0s 1ms/step - loss: 9.1584 - accuracy: 0.0812\n"
     ]
    }
   ],
   "source": [
    "score, acc= model.evaluate(x_f_test, y_test_f)\n",
    "\n",
    "# Обучение и тест не превосходят 15%, так как, по-моему мнению,\n",
    "#датасет составлен не верно и по нему невозможно сделать качественную классивикацию"
   ]
  },
  {
   "cell_type": "code",
   "execution_count": 37,
   "id": "5c550a29",
   "metadata": {},
   "outputs": [
    {
     "name": "stdout",
     "output_type": "stream",
     "text": [
      "Model: \"model\"\n",
      "_________________________________________________________________\n",
      " Layer (type)                Output Shape              Param #   \n",
      "=================================================================\n",
      " input_1 (InputLayer)        [(None, 7)]               0         \n",
      "                                                                 \n",
      " dense (Dense)               (None, 256)               2048      \n",
      "                                                                 \n",
      " dense_1 (Dense)             (None, 19)                4883      \n",
      "                                                                 \n",
      "=================================================================\n",
      "Total params: 6,931\n",
      "Trainable params: 6,931\n",
      "Non-trainable params: 0\n",
      "_________________________________________________________________\n"
     ]
    }
   ],
   "source": [
    "model.summary()"
   ]
  },
  {
   "cell_type": "code",
   "execution_count": 38,
   "id": "3e89fe46",
   "metadata": {},
   "outputs": [
    {
     "name": "stdout",
     "output_type": "stream",
     "text": [
      "10/10 [==============================] - 0s 1ms/step\n"
     ]
    },
    {
     "data": {
      "text/plain": [
       "array([[7.7028438e-03, 5.1593239e-04, 7.2213478e-02, 1.9202002e-03,\n",
       "        1.6358757e-02, 5.5327456e-02, 8.7660760e-02, 5.4736298e-02,\n",
       "        2.9283928e-02, 7.2655581e-02, 9.1250483e-03, 5.1151474e-06,\n",
       "        1.2628729e-02, 3.1720642e-03, 1.3382997e-01, 1.0863781e-03,\n",
       "        2.6147604e-02, 2.8742856e-01, 1.2820125e-01],\n",
       "       [2.0154769e-02, 1.9740290e-03, 1.0887291e-02, 3.3559788e-02,\n",
       "        4.8984427e-02, 2.4201734e-02, 4.5558292e-02, 1.4082707e-01,\n",
       "        3.1349972e-02, 7.6800369e-02, 1.6588530e-03, 2.3860148e-04,\n",
       "        4.5870792e-02, 1.0642880e-02, 2.1163885e-01, 4.2224920e-04,\n",
       "        9.1994079e-03, 1.1177116e-01, 1.7425947e-01],\n",
       "       [5.7802745e-03, 3.3534522e-04, 1.1658432e-05, 1.0140021e-01,\n",
       "        3.7098702e-02, 5.1028037e-04, 2.4140589e-02, 7.0229299e-02,\n",
       "        1.4863510e-02, 2.8896026e-02, 9.2779082e-06, 2.8760731e-04,\n",
       "        1.1059114e-02, 1.2577252e-03, 9.4307944e-02, 4.7206652e-07,\n",
       "        3.5919271e-05, 2.2112122e-02, 5.8766395e-01],\n",
       "       [1.5543402e-02, 5.1954534e-04, 5.7750743e-02, 1.6612200e-03,\n",
       "        1.7681917e-02, 1.0700070e-01, 6.5536097e-02, 8.6103514e-02,\n",
       "        3.3562578e-02, 7.9109542e-02, 5.1244190e-03, 1.0888636e-05,\n",
       "        1.9296907e-02, 6.2510381e-03, 1.6367525e-01, 1.5575268e-03,\n",
       "        4.5384444e-02, 1.5282306e-01, 1.4140725e-01],\n",
       "       [1.2985503e-02, 3.5215528e-03, 2.2217030e-32, 1.0833913e-02,\n",
       "        3.5432558e-06, 5.4847023e-05, 3.0893100e-02, 6.9228850e-02,\n",
       "        8.5319415e-02, 7.8676723e-02, 3.0727616e-02, 2.3767659e-02,\n",
       "        9.7485416e-02, 3.2592900e-03, 1.3650657e-01, 4.7007417e-03,\n",
       "        7.0092402e-04, 1.2578645e-01, 2.8554791e-01]], dtype=float32)"
      ]
     },
     "execution_count": 38,
     "metadata": {},
     "output_type": "execute_result"
    }
   ],
   "source": [
    "model.predict(x_f_test)[:5, :]"
   ]
  },
  {
   "cell_type": "code",
   "execution_count": null,
   "id": "8d8f0819",
   "metadata": {},
   "outputs": [],
   "source": []
  }
 ],
 "metadata": {
  "kernelspec": {
   "display_name": "Python 3 (ipykernel)",
   "language": "python",
   "name": "python3"
  },
  "language_info": {
   "codemirror_mode": {
    "name": "ipython",
    "version": 3
   },
   "file_extension": ".py",
   "mimetype": "text/x-python",
   "name": "python",
   "nbconvert_exporter": "python",
   "pygments_lexer": "ipython3",
   "version": "3.8.5"
  }
 },
 "nbformat": 4,
 "nbformat_minor": 5
}
